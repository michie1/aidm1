{
 "metadata": {
  "name": "task7"
 },
 "nbformat": 3,
 "nbformat_minor": 0,
 "worksheets": [
  {
   "cells": [
    {
     "cell_type": "code",
     "collapsed": false,
     "input": [
      "from numpy import zeros, histogram\n",
      "from task1 import\tjsim\n",
      "from task2 import minhash\n",
      "from math import pow\n",
      "from datetime import datetime"
     ],
     "language": "python",
     "metadata": {},
     "outputs": [],
     "prompt_number": 52
    },
    {
     "cell_type": "code",
     "collapsed": false,
     "input": [
      "# Get all subsets\n",
      "def p(l):\n",
      "\tif not l: \n",
      "\t\treturn [[]]\n",
      "\treturn p(l[1:]) + [[l[0]] + x for x in p(l[1:])]"
     ],
     "language": "python",
     "metadata": {},
     "outputs": [],
     "prompt_number": 4
    },
    {
     "cell_type": "code",
     "collapsed": false,
     "input": [
      "subsets = range(1, 11)\n",
      "ss = p(subsets)\n",
      "ss.pop(0) # Remove empty set\n",
      "js = zeros((len(ss), len(ss)))"
     ],
     "language": "python",
     "metadata": {},
     "outputs": [],
     "prompt_number": 5
    },
    {
     "cell_type": "code",
     "collapsed": false,
     "input": [
      "for i in range(len(ss)):\n",
      "\tfor j in range(0, i + 1):\n",
      "\t\tjs[i][j] = jsim(ss[i], ss[j])\n",
      "\t\tjs[j][i] = js[i][j]"
     ],
     "language": "python",
     "metadata": {},
     "outputs": [],
     "prompt_number": 6
    },
    {
     "cell_type": "code",
     "collapsed": false,
     "input": [
      "words, signatures = minhash(ss, 100)\n",
      "print signatures, len(signatures), len(signatures[0])"
     ],
     "language": "python",
     "metadata": {},
     "outputs": [
      {
       "output_type": "stream",
       "stream": "stdout",
       "text": [
        "[[ 2.  4.  2. ...,  0.  0.  0.]\n",
        " [ 7.  5.  5. ...,  0.  0.  0.]\n",
        " [ 1.  7.  1. ...,  0.  0.  0.]\n",
        " ..., \n",
        " [ 4.  6.  4. ...,  0.  0.  0.]\n",
        " [ 1.  4.  1. ...,  0.  0.  0.]\n",
        " [ 4.  2.  2. ...,  0.  0.  0.]] 100 1023\n"
       ]
      }
     ],
     "prompt_number": 21
    },
    {
     "cell_type": "code",
     "collapsed": false,
     "input": [
      "b = 5\n",
      "r = 20\n",
      "s = 0.2"
     ],
     "language": "python",
     "metadata": {},
     "outputs": [],
     "prompt_number": 41
    },
    {
     "cell_type": "code",
     "collapsed": false,
     "input": [
      "print signatures[:, 0]\n",
      "print hash(tuple(signatures[:, 0]))"
     ],
     "language": "python",
     "metadata": {},
     "outputs": [
      {
       "output_type": "stream",
       "stream": "stdout",
       "text": [
        "[ 2.  7.  1.  8.  0.  6.  0.  6.  2.  2.  3.  7.  3.  8.  3.  0.  1.  0.\n",
        "  0.  7.  3.  8.  1.  3.  6.  5.  5.  6.  7.  7.  8.  7.  7.  4.  0.  7.\n",
        "  6.  1.  4.  0.  9.  2.  0.  3.  9.  1.  1.  7.  5.  5.  4.  7.  7.  1.\n",
        "  3.  7.  7.  9.  7.  4.  9.  5.  2.  5.  1.  1.  7.  8.  2.  3.  1.  5.\n",
        "  8.  0.  0.  0.  5.  9.  7.  9.  7.  3.  8.  7.  0.  5.  0.  9.  1.  3.\n",
        "  8.  3.  5.  4.  3.  5.  3.  4.  1.  4.]\n",
        "2608780110390278956\n"
       ]
      }
     ],
     "prompt_number": 42
    },
    {
     "cell_type": "code",
     "collapsed": false,
     "input": [
      "1-pow(1-pow(s, r), b)"
     ],
     "language": "python",
     "metadata": {},
     "outputs": [
      {
       "output_type": "pyout",
       "prompt_number": 35,
       "text": [
        "5.218048215738236e-14"
       ]
      }
     ],
     "prompt_number": 35
    },
    {
     "cell_type": "code",
     "collapsed": false,
     "input": [
      "print js"
     ],
     "language": "python",
     "metadata": {},
     "outputs": [
      {
       "output_type": "stream",
       "stream": "stdout",
       "text": [
        "[[ 1.          0.          0.5        ...,  0.11111111  0.          0.1       ]\n",
        " [ 0.          1.          0.5        ...,  0.          0.11111111  0.1       ]\n",
        " [ 0.5         0.5         1.         ...,  0.1         0.1         0.2       ]\n",
        " ..., \n",
        " [ 0.11111111  0.          0.1        ...,  1.          0.8         0.9       ]\n",
        " [ 0.          0.11111111  0.1        ...,  0.8         1.          0.9       ]\n",
        " [ 0.1         0.1         0.2        ...,  0.9         0.9         1.        ]]\n"
       ]
      }
     ],
     "prompt_number": 57
    },
    {
     "cell_type": "code",
     "collapsed": false,
     "input": [
      "histogram(js, bins=[0.15, 0.25, 0.35, 0.45, 0.55, 0.65, 0.75, 0.85])[0]"
     ],
     "language": "python",
     "metadata": {},
     "outputs": [
      {
       "output_type": "pyout",
       "prompt_number": 63,
       "text": [
        "array([118080, 288960, 221760,  97284,  87360,  31080,  13380])"
       ]
      }
     ],
     "prompt_number": 63
    },
    {
     "cell_type": "code",
     "collapsed": false,
     "input": [
      "combinations = [(2, 50), (5, 20), (10, 10), (20, 5), (50, 2)]\n",
      "#combinations = [(50, 2)]\n",
      "#count = [0]*7 # 0.15 - 0.85, +0.1\n",
      "count = histogram(js, bins=[0.15, 0.25, 0.35, 0.45, 0.55, 0.65, 0.75, 0.85])[0]\n",
      "#detected = [0]*7\n",
      "for b, r in combinations:\n",
      "    print '============='\n",
      "    print b, r\n",
      "    print datetime.now()\n",
      "    #count = [0]*7 # 0.15 - 0.85, +0.1\n",
      "    detected = [0]*7    \n",
      "    for i in range(len(ss)):\n",
      "    #for i in range(50):\n",
      "        if i % 100 == 0:\n",
      "            print i\n",
      "        for j in range(len(ss)):\n",
      "            #js[i][j] = jsim(ss[i], ss[j]) #Already done somewhere else\n",
      "            #countindex = 0\n",
      "            if js[i][j] >= 0.15 and js[i][j] < 0.25:\n",
      "                countindex = 0\n",
      "            elif js[i][j] >= 0.25 and js[i][j] < 0.35:\n",
      "                countindex = 1\n",
      "            elif js[i][j] >= 0.35 and js[i][j] < 0.45:\n",
      "                countindex = 2\n",
      "            elif js[i][j] >= 0.45 and js[i][j] < 0.55:\n",
      "                countindex = 3\n",
      "            elif js[i][j] >= 0.55 and js[i][j] < 0.65:\n",
      "                countindex = 4\n",
      "            elif js[i][j] >= 0.65 and js[i][j] < 0.75:\n",
      "                countindex = 5\n",
      "            elif js[i][j] >= 0.75 and js[i][j] < 0.85:\n",
      "                countindex = 6\n",
      "            #count[countindex] += 1 #already done\n",
      "            h = False\n",
      "            bi = 0\n",
      "            while h == False and bi < b:\n",
      "                h = hash(tuple(signatures[range(bi * r, (bi + 1) * r)][:, i])) == hash(tuple(signatures[range(bi * r, (bi + 1) * r)][:, j]))\n",
      "                bi += 1\n",
      "            if h:\n",
      "                detected[countindex] += 1\n",
      "                \n",
      "    print '============='\n",
      "    print 'b=' + str(b) + '; r='+str(r)\n",
      "    print 's=0.2; predicted=' + str(1-pow(1-pow(0.2, r), b)) + '; measured=' + str(detected[0]/float(count[0]))\n",
      "    print 's=0.3; predicted=' + str(1-pow(1-pow(0.3, r), b)) + '; measured=' + str(detected[1]/float(count[1]))\n",
      "    print 's=0.4; predicted=' + str(1-pow(1-pow(0.4, r), b)) + '; measured=' + str(detected[2]/float(count[2]))\n",
      "    print 's=0.5; predicted=' + str(1-pow(1-pow(0.5, r), b)) + '; measured=' + str(detected[3]/float(count[3]))\n",
      "    print 's=0.6; predicted=' + str(1-pow(1-pow(0.6, r), b)) + '; measured=' + str(detected[4]/float(count[4]))\n",
      "    print 's=0.7; predicted=' + str(1-pow(1-pow(0.7, r), b)) + '; measured=' + str(detected[5]/float(count[5]))\n",
      "    print 's=0.8; predicted=' + str(1-pow(1-pow(0.8, r), b)) + '; measured=' + str(detected[6]/float(count[6]))\n",
      "    print datetime.now()"
     ],
     "language": "python",
     "metadata": {},
     "outputs": [
      {
       "output_type": "stream",
       "stream": "stdout",
       "text": [
        "=============\n",
        "2 50\n",
        "2014-03-10 11:19:04.764659\n",
        "0\n",
        "100"
       ]
      }
     ],
     "prompt_number": "*"
    },
    {
     "cell_type": "code",
     "collapsed": false,
     "input": [
      "print signatures"
     ],
     "language": "python",
     "metadata": {},
     "outputs": [
      {
       "output_type": "stream",
       "stream": "stdout",
       "text": [
        "[[ 2.  4.  2. ...,  0.  0.  0.]\n",
        " [ 7.  5.  5. ...,  0.  0.  0.]\n",
        " [ 1.  7.  1. ...,  0.  0.  0.]\n",
        " ..., \n",
        " [ 4.  6.  4. ...,  0.  0.  0.]\n",
        " [ 1.  4.  1. ...,  0.  0.  0.]\n",
        " [ 4.  2.  2. ...,  0.  0.  0.]]\n"
       ]
      }
     ],
     "prompt_number": 22
    },
    {
     "cell_type": "code",
     "collapsed": false,
     "input": [
      "print len(signatures), len(signatures[0])"
     ],
     "language": "python",
     "metadata": {},
     "outputs": [
      {
       "output_type": "stream",
       "stream": "stdout",
       "text": [
        "100 1023\n"
       ]
      }
     ],
     "prompt_number": 23
    },
    {
     "cell_type": "code",
     "collapsed": false,
     "input": [
      "# Select submatrix from signature matrix\n",
      "i = 0\n",
      "j = 1\n",
      "h = False\n",
      "while h == False and bi < b:\n",
      "    h = hash(tuple(signatures[range(bi * r, (bi + 1) * r)][:, i])) == hash(tuple(signatures[range(bi * r, (bi + 1) * r)][:, j]))\n",
      "    bi += 1\n",
      "print h"
     ],
     "language": "python",
     "metadata": {},
     "outputs": [
      {
       "output_type": "stream",
       "stream": "stdout",
       "text": [
        "False\n"
       ]
      }
     ],
     "prompt_number": 36
    }
   ],
   "metadata": {}
  }
 ]
}