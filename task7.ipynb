{
 "metadata": {
  "name": "task7"
 },
 "nbformat": 3,
 "nbformat_minor": 0,
 "worksheets": [
  {
   "cells": [
    {
     "cell_type": "code",
     "collapsed": false,
     "input": [
      "from numpy import zeros, histogram\n",
      "from task1 import\tjsim\n",
      "from task2 import minhash\n",
      "from math import pow"
     ],
     "language": "python",
     "metadata": {},
     "outputs": [],
     "prompt_number": 41
    },
    {
     "cell_type": "code",
     "collapsed": false,
     "input": [
      "# Get all subsets\n",
      "def p(l):\n",
      "\tif not l: \n",
      "\t\treturn [[]]\n",
      "\treturn p(l[1:]) + [[l[0]] + x for x in p(l[1:])]"
     ],
     "language": "python",
     "metadata": {},
     "outputs": [],
     "prompt_number": 2
    },
    {
     "cell_type": "code",
     "collapsed": false,
     "input": [
      "subsets = range(1, 11)\n",
      "ss = p(subsets)\n",
      "ss.pop(0) # Remove empty set\n",
      "js = zeros((len(ss), len(ss)))"
     ],
     "language": "python",
     "metadata": {},
     "outputs": [],
     "prompt_number": 22
    },
    {
     "cell_type": "code",
     "collapsed": false,
     "input": [
      "for i in range(len(ss)):\n",
      "\tfor j in range(0, i):\n",
      "\t\tjs[i][j] = jsim(ss[i], ss[j])\n",
      "\t\tjs[j][i] = js[i][j]"
     ],
     "language": "python",
     "metadata": {},
     "outputs": [],
     "prompt_number": 23
    },
    {
     "cell_type": "code",
     "collapsed": false,
     "input": [
      "words, signatures = minhash(ss, 100)\n",
      "print signatures, len(signatures), len(signatures[0])"
     ],
     "language": "python",
     "metadata": {},
     "outputs": [
      {
       "output_type": "stream",
       "stream": "stdout",
       "text": [
        "[[ 8.  9.  8. ...,  0.  0.  0.]\n",
        " [ 2.  9.  2. ...,  0.  0.  0.]\n",
        " [ 4.  1.  1. ...,  0.  0.  0.]\n",
        " ..., \n",
        " [ 9.  0.  0. ...,  1.  0.  0.]\n",
        " [ 4.  7.  4. ...,  0.  0.  0.]\n",
        " [ 8.  7.  7. ...,  0.  0.  0.]] 100 1023\n"
       ]
      }
     ],
     "prompt_number": 24
    },
    {
     "cell_type": "code",
     "collapsed": false,
     "input": [
      "b = 5\n",
      "r = 20\n",
      "s = 0.2"
     ],
     "language": "python",
     "metadata": {},
     "outputs": [],
     "prompt_number": 33
    },
    {
     "cell_type": "code",
     "collapsed": false,
     "input": [
      "print signatures[:, 0]\n",
      "print hash(tuple(signatures[:, 0]))"
     ],
     "language": "python",
     "metadata": {},
     "outputs": [
      {
       "output_type": "stream",
       "stream": "stdout",
       "text": [
        "[ 8.  2.  4.  1.  4.  8.  6.  4.  4.  6.  8.  4.  6.  7.  8.  5.  6.  6.\n",
        "  4.  4.  9.  7.  8.  5.  2.  7.  7.  2.  2.  1.  6.  1.  2.  9.  6.  8.\n",
        "  0.  5.  6.  4.  6.  6.  6.  3.  4.  5.  7.  5.  7.  8.  8.  8.  2.  6.\n",
        "  4.  0.  1.  4.  9.  7.  4.  0.  8.  6.  1.  4.  2.  8.  6.  7.  1.  2.\n",
        "  9.  0.  9.  1.  8.  5.  3.  1.  1.  5.  3.  9.  9.  5.  4.  1.  8.  9.\n",
        "  4.  3.  2.  1.  6.  3.  9.  9.  4.  8.]\n",
        "3049571470737221905\n"
       ]
      }
     ],
     "prompt_number": 26
    },
    {
     "cell_type": "code",
     "collapsed": false,
     "input": [
      "1-pow(1-pow(s, r), b)"
     ],
     "language": "python",
     "metadata": {},
     "outputs": [
      {
       "output_type": "pyout",
       "prompt_number": 35,
       "text": [
        "5.218048215738236e-14"
       ]
      }
     ],
     "prompt_number": 35
    },
    {
     "cell_type": "code",
     "collapsed": false,
     "input": [
      "print js"
     ],
     "language": "python",
     "metadata": {},
     "outputs": [
      {
       "output_type": "stream",
       "stream": "stdout",
       "text": [
        "[[ 0.          0.          0.5        ...,  0.11111111  0.          0.1       ]\n",
        " [ 0.          0.          0.5        ...,  0.          0.11111111  0.1       ]\n",
        " [ 0.5         0.5         0.         ...,  0.1         0.1         0.2       ]\n",
        " ..., \n",
        " [ 0.11111111  0.          0.1        ...,  0.          0.8         0.9       ]\n",
        " [ 0.          0.11111111  0.1        ...,  0.8         0.          0.9       ]\n",
        " [ 0.1         0.1         0.2        ...,  0.9         0.9         0.        ]]\n"
       ]
      }
     ],
     "prompt_number": 37
    },
    {
     "cell_type": "code",
     "collapsed": false,
     "input": [
      "histogram(js)"
     ],
     "language": "python",
     "metadata": {},
     "outputs": [
      {
       "output_type": "pyout",
       "prompt_number": 43,
       "text": [
        "(array([ 58025, 168320, 165120, 201600, 221760,  97284,  87360,  31080,\n",
        "        10860,   5120]),\n",
        " array([ 0.  ,  0.09,  0.18,  0.27,  0.36,  0.45,  0.54,  0.63,  0.72,\n",
        "        0.81,  0.9 ]))"
       ]
      }
     ],
     "prompt_number": 43
    },
    {
     "cell_type": "code",
     "collapsed": false,
     "input": [
      "histogram(js, bins=[0.15, 0.25, 0.35, 0.45, 0.55, 0.65, 0.75, 0.85])"
     ],
     "language": "python",
     "metadata": {},
     "outputs": [
      {
       "output_type": "pyout",
       "prompt_number": 49,
       "text": [
        "(array([118080, 288960, 221760,  97284,  87360,  31080,  13380]),\n",
        " array([ 0.15,  0.25,  0.35,  0.45,  0.55,  0.65,  0.75,  0.85]))"
       ]
      }
     ],
     "prompt_number": 49
    },
    {
     "cell_type": "code",
     "collapsed": false,
     "input": [
      "i = 0"
     ],
     "language": "python",
     "metadata": {},
     "outputs": []
    }
   ],
   "metadata": {}
  }
 ]
}