{
 "metadata": {
  "name": "task7"
 },
 "nbformat": 3,
 "nbformat_minor": 0,
 "worksheets": [
  {
   "cells": [
    {
     "cell_type": "code",
     "collapsed": false,
     "input": [
      "from numpy import zeros, histogram\n",
      "from task1 import\tjsim\n",
      "from task2 import minhash\n",
      "from math import pow\n",
      "from datetime import datetime"
     ],
     "language": "python",
     "metadata": {},
     "outputs": [],
     "prompt_number": 2
    },
    {
     "cell_type": "code",
     "collapsed": false,
     "input": [
      "# Get all subsets\n",
      "def p(l):\n",
      "\tif not l: \n",
      "\t\treturn [[]]\n",
      "\treturn p(l[1:]) + [[l[0]] + x for x in p(l[1:])]"
     ],
     "language": "python",
     "metadata": {},
     "outputs": [],
     "prompt_number": 3
    },
    {
     "cell_type": "code",
     "collapsed": false,
     "input": [
      "# Generate all subsets\n",
      "subsets = range(1, 11)\n",
      "ss = p(subsets)\n",
      "ss.pop(0) # Remove empty set\n",
      "js = zeros((len(ss), len(ss)))"
     ],
     "language": "python",
     "metadata": {},
     "outputs": []
    },
    {
     "cell_type": "code",
     "collapsed": false,
     "input": [
      "# Calculate all jacard similarities between subsets\n",
      "for i in range(len(ss)):\n",
      "\tfor j in range(0, i + 1):\n",
      "\t\tjs[i][j] = jsim(ss[i], ss[j])\n",
      "\t\tjs[j][i] = js[i][j]"
     ],
     "language": "python",
     "metadata": {},
     "outputs": [],
     "prompt_number": 5
    },
    {
     "cell_type": "code",
     "collapsed": false,
     "input": [
      "# Generate signature matrix\n",
      "words, signatures = minhash(ss, 100)"
     ],
     "language": "python",
     "metadata": {},
     "outputs": [],
     "prompt_number": 6
    },
    {
     "cell_type": "code",
     "collapsed": false,
     "input": [
      "combinations = [(2, 50), (5, 20), (10, 10), (20, 5), (50, 2)] # All combinations of r and b\n",
      "count = histogram(js, bins=[0.15, 0.25, 0.35, 0.45, 0.55, 0.65, 0.75, 0.85])[0] # Count the occurences of all interval probabilities\n",
      "for b, r in [combinations[1]]:\n",
      "    print '============='\n",
      "    print b, r\n",
      "    print datetime.now()\n",
      "    detected = [0]*7\n",
      "    for i in range(len(ss)):\n",
      "        if i % 100 == 0:\n",
      "            print i # Shows some progress\n",
      "        for j in range(len(ss)): # For every subset i and j\n",
      "            # Check in which interval the jaccard similarity is\n",
      "            countindex = 0\n",
      "            if js[i][j] >= 0.15 and js[i][j] < 0.25:\n",
      "                countindex = 0\n",
      "            elif js[i][j] >= 0.25 and js[i][j] < 0.35:\n",
      "                countindex = 1\n",
      "            elif js[i][j] >= 0.35 and js[i][j] < 0.45:\n",
      "                countindex = 2\n",
      "            elif js[i][j] >= 0.45 and js[i][j] < 0.55:\n",
      "                countindex = 3\n",
      "            elif js[i][j] >= 0.55 and js[i][j] < 0.65:\n",
      "                countindex = 4\n",
      "            elif js[i][j] >= 0.65 and js[i][j] < 0.75:\n",
      "                countindex = 5\n",
      "            elif js[i][j] >= 0.75 and js[i][j] < 0.85:\n",
      "                countindex = 6\n",
      "            \n",
      "            # Check if the two subsets will be detected as candidate pair with banding technique\n",
      "            h = False\n",
      "            bi = 0\n",
      "            while h == False and bi < b:\n",
      "                h = hash(tuple(signatures[range(bi * r, (bi + 1) * r)][:, i])) == hash(tuple(signatures[range(bi * r, (bi + 1) * r)][:, j]))\n",
      "                bi += 1\n",
      "            if h:\n",
      "                detected[countindex] += 1\n",
      "                \n",
      "    print '============='\n",
      "    print 'b=' + str(b) + '; r='+str(r)\n",
      "    print 's=0.2; predicted=' + str(1-pow(1-pow(0.2, r), b)) + '; measured=' + str(detected[0]/float(count[0]))\n",
      "    print 's=0.3; predicted=' + str(1-pow(1-pow(0.3, r), b)) + '; measured=' + str(detected[1]/float(count[1]))\n",
      "    print 's=0.4; predicted=' + str(1-pow(1-pow(0.4, r), b)) + '; measured=' + str(detected[2]/float(count[2]))\n",
      "    print 's=0.5; predicted=' + str(1-pow(1-pow(0.5, r), b)) + '; measured=' + str(detected[3]/float(count[3]))\n",
      "    print 's=0.6; predicted=' + str(1-pow(1-pow(0.6, r), b)) + '; measured=' + str(detected[4]/float(count[4]))\n",
      "    print 's=0.7; predicted=' + str(1-pow(1-pow(0.7, r), b)) + '; measured=' + str(detected[5]/float(count[5]))\n",
      "    print 's=0.8; predicted=' + str(1-pow(1-pow(0.8, r), b)) + '; measured=' + str(detected[6]/float(count[6]))\n",
      "    print datetime.now()"
     ],
     "language": "python",
     "metadata": {},
     "outputs": [
      {
       "ename": "KeyboardInterrupt",
       "evalue": "",
       "output_type": "pyerr",
       "traceback": [
        "\u001b[0;31m---------------------------------------------------------------------------\u001b[0m\n\u001b[0;31mKeyboardInterrupt\u001b[0m                         Traceback (most recent call last)",
        "\u001b[0;32m<ipython-input-7-1c1b33c650f6>\u001b[0m in \u001b[0;36m<module>\u001b[0;34m()\u001b[0m\n\u001b[1;32m     31\u001b[0m             \u001b[0mbi\u001b[0m \u001b[0;34m=\u001b[0m \u001b[0;36m0\u001b[0m\u001b[0;34m\u001b[0m\u001b[0m\n\u001b[1;32m     32\u001b[0m             \u001b[0;32mwhile\u001b[0m \u001b[0mh\u001b[0m \u001b[0;34m==\u001b[0m \u001b[0mFalse\u001b[0m \u001b[0;32mand\u001b[0m \u001b[0mbi\u001b[0m \u001b[0;34m<\u001b[0m \u001b[0mb\u001b[0m\u001b[0;34m:\u001b[0m\u001b[0;34m\u001b[0m\u001b[0m\n\u001b[0;32m---> 33\u001b[0;31m                 \u001b[0mh\u001b[0m \u001b[0;34m=\u001b[0m \u001b[0mhash\u001b[0m\u001b[0;34m(\u001b[0m\u001b[0mtuple\u001b[0m\u001b[0;34m(\u001b[0m\u001b[0msignatures\u001b[0m\u001b[0;34m[\u001b[0m\u001b[0mrange\u001b[0m\u001b[0;34m(\u001b[0m\u001b[0mbi\u001b[0m \u001b[0;34m*\u001b[0m \u001b[0mr\u001b[0m\u001b[0;34m,\u001b[0m \u001b[0;34m(\u001b[0m\u001b[0mbi\u001b[0m \u001b[0;34m+\u001b[0m \u001b[0;36m1\u001b[0m\u001b[0;34m)\u001b[0m \u001b[0;34m*\u001b[0m \u001b[0mr\u001b[0m\u001b[0;34m)\u001b[0m\u001b[0;34m]\u001b[0m\u001b[0;34m[\u001b[0m\u001b[0;34m:\u001b[0m\u001b[0;34m,\u001b[0m \u001b[0mi\u001b[0m\u001b[0;34m]\u001b[0m\u001b[0;34m)\u001b[0m\u001b[0;34m)\u001b[0m \u001b[0;34m==\u001b[0m \u001b[0mhash\u001b[0m\u001b[0;34m(\u001b[0m\u001b[0mtuple\u001b[0m\u001b[0;34m(\u001b[0m\u001b[0msignatures\u001b[0m\u001b[0;34m[\u001b[0m\u001b[0mrange\u001b[0m\u001b[0;34m(\u001b[0m\u001b[0mbi\u001b[0m \u001b[0;34m*\u001b[0m \u001b[0mr\u001b[0m\u001b[0;34m,\u001b[0m \u001b[0;34m(\u001b[0m\u001b[0mbi\u001b[0m \u001b[0;34m+\u001b[0m \u001b[0;36m1\u001b[0m\u001b[0;34m)\u001b[0m \u001b[0;34m*\u001b[0m \u001b[0mr\u001b[0m\u001b[0;34m)\u001b[0m\u001b[0;34m]\u001b[0m\u001b[0;34m[\u001b[0m\u001b[0;34m:\u001b[0m\u001b[0;34m,\u001b[0m \u001b[0mj\u001b[0m\u001b[0;34m]\u001b[0m\u001b[0;34m)\u001b[0m\u001b[0;34m)\u001b[0m\u001b[0;34m\u001b[0m\u001b[0m\n\u001b[0m\u001b[1;32m     34\u001b[0m                 \u001b[0mbi\u001b[0m \u001b[0;34m+=\u001b[0m \u001b[0;36m1\u001b[0m\u001b[0;34m\u001b[0m\u001b[0m\n\u001b[1;32m     35\u001b[0m             \u001b[0;32mif\u001b[0m \u001b[0mh\u001b[0m\u001b[0;34m:\u001b[0m\u001b[0;34m\u001b[0m\u001b[0m\n",
        "\u001b[0;31mKeyboardInterrupt\u001b[0m: "
       ]
      },
      {
       "output_type": "stream",
       "stream": "stdout",
       "text": [
        "=============\n",
        "5 20\n",
        "2014-03-10 16:12:50.297136\n",
        "0\n"
       ]
      }
     ],
     "prompt_number": 7
    },
    {
     "cell_type": "code",
     "collapsed": false,
     "input": [
      "# Output of cell above. It took multiple hours to generate. In one case the \"measured\" was above 1, so something is wrong.\n",
      "\n",
      "b=2; r=50\n",
      "s=0.2; predicted=0.0; measured=0.00866361788618\n",
      "s=0.3; predicted=0.0; measured=0.0\n",
      "s=0.4; predicted=0.0; measured=0.0\n",
      "s=0.5; predicted=1.7763568394e-15; measured=0.0\n",
      "s=0.6; predicted=1.6165735417e-11; measured=0.0\n",
      "s=0.7; predicted=3.59693005381e-08; measured=0.0\n",
      "s=0.8; predicted=2.85447501506e-05; measured=0.0\n",
      "\n",
      "b=5; r=20\n",
      "s=0.2; predicted=5.21804821574e-14; measured=0.0169122628726\n",
      "s=0.3; predicted=1.7433943178e-10; measured=0.0\n",
      "s=0.4; predicted=5.49755800883e-08; measured=0.0\n",
      "s=0.5; predicted=4.76836248708e-06; measured=0.0\n",
      "s=0.6; predicted=0.000182794554998; measured=0.000228937728938\n",
      "s=0.7; predicted=0.00398325158731; measured=0.00797940797941\n",
      "s=0.8; predicted=0.0563320840513; measured=0.0817638266069\n",
      "\n",
      "b=10; r=10\n",
      "s=0.2; predicted=1.0239995285e-06; measured=0.0274305555556\n",
      "s=0.3; predicted=5.90474309714e-05; measured=0.0\n",
      "s=0.4; predicted=0.00104808135809; measured=0.0001443001443\n",
      "s=0.5; predicted=0.0097228212237; measured=0.00370050573578\n",
      "s=0.6; predicted=0.0588471548816; measured=0.029532967033\n",
      "s=0.7; predicted=0.249144174231; measured=0.160489060489\n",
      "s=0.8; predicted=0.678859973593; measured=0.493423019432\n",
      "\n",
      "b=20; r=5\n",
      "s=0.2; predicted=0.00638058130477; measured=0.0347476287263\n",
      "s=0.3; predicted=0.047494259125; measured=0.0472591362126\n",
      "s=0.4; predicted=0.186049552149; measured=0.221645021645\n",
      "s=0.5; predicted=0.470050715317; measured=0.501418527199\n",
      "s=0.6; predicted=0.801902453838; measured=0.779212454212\n",
      "s=0.7; predicted=0.974780544188; measured=0.966023166023\n",
      "s=0.8; predicted=0.999643942109; measured=0.99850523168\n",
      "\n",
      "b=50; r=2\n",
      "s=0.2; predicted=0.870114206478; measured=1.50263380759\n",
      "s=0.3; predicted=0.991044916988; measured=0.990822259136\n",
      "s=0.4; predicted=0.999836331801; measured=1.0\n",
      "s=0.5; predicted=0.999999433678; measured=1.0\n",
      "s=0.6; predicted=0.999999999796; measured=1.0\n",
      "s=0.7; predicted=1.0; measured=1.0\n",
      "s=0.8; predicted=1.0; measured=1.0"
     ],
     "language": "python",
     "metadata": {},
     "outputs": []
    }
   ],
   "metadata": {}
  }
 ]
}