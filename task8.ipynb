{
 "metadata": {
  "name": "task8"
 },
 "nbformat": 3,
 "nbformat_minor": 0,
 "worksheets": [
  {
   "cells": [
    {
     "cell_type": "code",
     "collapsed": false,
     "input": [
      "from numpy import random, empty, dot, allclose, arccos, histogram\n",
      "from task4 import sketch\n",
      "from scipy import linalg\n",
      "from datetime import datetime\n",
      "\n"
     ],
     "language": "python",
     "metadata": {},
     "outputs": []
    },
    {
     "cell_type": "code",
     "collapsed": false,
     "input": [
      "def cossim(s1, s2):\n",
      "\thoi = dot(s1, s2) / dot(linalg.norm(s1),linalg.norm(s2))\n",
      "\tif allclose(hoi, 1): # Fix for problems with float64 and invalid math error\n",
      "\t\tac = 0\n",
      "\telse:\n",
      "\t\tac = arccos(hoi)\n",
      "\treturn 1 - ac\n",
      "\n",
      "rv = random.randn(1000, 2) # Random vectors"
     ],
     "language": "python",
     "metadata": {},
     "outputs": []
    },
    {
     "cell_type": "code",
     "collapsed": false,
     "input": [
      "cs = empty((1000, 1000))"
     ],
     "language": "python",
     "metadata": {},
     "outputs": [],
     "prompt_number": 107
    },
    {
     "cell_type": "code",
     "collapsed": false,
     "input": [
      "# Generate cosine similarities between all random vectors\n",
      "for i in range(1000):\n",
      "    for j in range(0, i + 1):\n",
      "        cs[i][j] = cossim(rv[i], rv[j])\n",
      "        cs[j][i] = cs[i][j]"
     ],
     "language": "python",
     "metadata": {},
     "outputs": [],
     "prompt_number": 108
    },
    {
     "cell_type": "code",
     "collapsed": false,
     "input": [
      "# Generate the sketches from the similarities\n",
      "sketches = sketch(cs, 100)"
     ],
     "language": "python",
     "metadata": {},
     "outputs": [],
     "prompt_number": 115
    },
    {
     "cell_type": "code",
     "collapsed": false,
     "input": [
      "combinations = [(2, 50), (5, 20), (10, 10), (20, 5), (50, 2)] # All combinations of r and b\n",
      "count = histogram(cs, bins=[0.15, 0.25, 0.35, 0.45, 0.55, 0.65, 0.75, 0.85])[0] # Count the occurences of all interval probabilities\n",
      "for b, r in [combinations[1]]:\n",
      "    print '============='\n",
      "    print b, r\n",
      "    print datetime.now()\n",
      "    detected = [0]*7\n",
      "    for i in range(1000):\n",
      "        if i % 100 == 0:\n",
      "            print i # Shows some progress\n",
      "        for j in range(1000): # For every random vector i and j\n",
      "            # Check in which interval the cosine similarity is\n",
      "            countindex = 0\n",
      "            if cs[i][j] >= 0.15 and cs[i][j] < 0.25:\n",
      "                countindex = 0\n",
      "            elif cs[i][j] >= 0.25 and cs[i][j] < 0.35:\n",
      "                countindex = 1\n",
      "            elif cs[i][j] >= 0.35 and cs[i][j] < 0.45:\n",
      "                countindex = 2\n",
      "            elif cs[i][j] >= 0.45 and cs[i][j] < 0.55:\n",
      "                countindex = 3\n",
      "            elif cs[i][j] >= 0.55 and cs[i][j] < 0.65:\n",
      "                countindex = 4\n",
      "            elif cs[i][j] >= 0.65 and cs[i][j] < 0.75:\n",
      "                countindex = 5\n",
      "            elif cs[i][j] >= 0.75 and cs[i][j] < 0.85:\n",
      "                countindex = 6\n",
      "            \n",
      "            # Check if the two vectors will be detected as candidate pair with banding technique\n",
      "            h = False\n",
      "            bi = 0\n",
      "            while h == False and bi < b:\n",
      "                h = hash(tuple(sketches[range(bi * r, (bi + 1) * r)][:, i])) == hash(tuple(sketches[range(bi * r, (bi + 1) * r)][:, j]))\n",
      "                bi += 1\n",
      "            if h:\n",
      "                detected[countindex] += 1\n",
      "                \n",
      "    print '============='\n",
      "    print 'b=' + str(b) + '; r='+str(r)\n",
      "    print 's=0.2; predicted=' + str(1-pow(1-pow(0.2, r), b)) + '; measured=' + str(detected[0]/float(count[0]))\n",
      "    print 's=0.3; predicted=' + str(1-pow(1-pow(0.3, r), b)) + '; measured=' + str(detected[1]/float(count[1]))\n",
      "    print 's=0.4; predicted=' + str(1-pow(1-pow(0.4, r), b)) + '; measured=' + str(detected[2]/float(count[2]))\n",
      "    print 's=0.5; predicted=' + str(1-pow(1-pow(0.5, r), b)) + '; measured=' + str(detected[3]/float(count[3]))\n",
      "    print 's=0.6; predicted=' + str(1-pow(1-pow(0.6, r), b)) + '; measured=' + str(detected[4]/float(count[4]))\n",
      "    print 's=0.7; predicted=' + str(1-pow(1-pow(0.7, r), b)) + '; measured=' + str(detected[5]/float(count[5]))\n",
      "    print 's=0.8; predicted=' + str(1-pow(1-pow(0.8, r), b)) + '; measured=' + str(detected[6]/float(count[6]))\n",
      "    print datetime.now()"
     ],
     "language": "python",
     "metadata": {},
     "outputs": [
      {
       "ename": "KeyboardInterrupt",
       "evalue": "",
       "output_type": "pyerr",
       "traceback": [
        "\u001b[0;31m---------------------------------------------------------------------------\u001b[0m\n\u001b[0;31mKeyboardInterrupt\u001b[0m                         Traceback (most recent call last)",
        "\u001b[0;32m<ipython-input-125-94ef72fc3b25>\u001b[0m in \u001b[0;36m<module>\u001b[0;34m()\u001b[0m\n\u001b[1;32m     31\u001b[0m             \u001b[0mbi\u001b[0m \u001b[0;34m=\u001b[0m \u001b[0;36m0\u001b[0m\u001b[0;34m\u001b[0m\u001b[0m\n\u001b[1;32m     32\u001b[0m             \u001b[0;32mwhile\u001b[0m \u001b[0mh\u001b[0m \u001b[0;34m==\u001b[0m \u001b[0mFalse\u001b[0m \u001b[0;32mand\u001b[0m \u001b[0mbi\u001b[0m \u001b[0;34m<\u001b[0m \u001b[0mb\u001b[0m\u001b[0;34m:\u001b[0m\u001b[0;34m\u001b[0m\u001b[0m\n\u001b[0;32m---> 33\u001b[0;31m                 \u001b[0mh\u001b[0m \u001b[0;34m=\u001b[0m \u001b[0mhash\u001b[0m\u001b[0;34m(\u001b[0m\u001b[0mtuple\u001b[0m\u001b[0;34m(\u001b[0m\u001b[0msketches\u001b[0m\u001b[0;34m[\u001b[0m\u001b[0mrange\u001b[0m\u001b[0;34m(\u001b[0m\u001b[0mbi\u001b[0m \u001b[0;34m*\u001b[0m \u001b[0mr\u001b[0m\u001b[0;34m,\u001b[0m \u001b[0;34m(\u001b[0m\u001b[0mbi\u001b[0m \u001b[0;34m+\u001b[0m \u001b[0;36m1\u001b[0m\u001b[0;34m)\u001b[0m \u001b[0;34m*\u001b[0m \u001b[0mr\u001b[0m\u001b[0;34m)\u001b[0m\u001b[0;34m]\u001b[0m\u001b[0;34m[\u001b[0m\u001b[0;34m:\u001b[0m\u001b[0;34m,\u001b[0m \u001b[0mi\u001b[0m\u001b[0;34m]\u001b[0m\u001b[0;34m)\u001b[0m\u001b[0;34m)\u001b[0m \u001b[0;34m==\u001b[0m \u001b[0mhash\u001b[0m\u001b[0;34m(\u001b[0m\u001b[0mtuple\u001b[0m\u001b[0;34m(\u001b[0m\u001b[0msketches\u001b[0m\u001b[0;34m[\u001b[0m\u001b[0mrange\u001b[0m\u001b[0;34m(\u001b[0m\u001b[0mbi\u001b[0m \u001b[0;34m*\u001b[0m \u001b[0mr\u001b[0m\u001b[0;34m,\u001b[0m \u001b[0;34m(\u001b[0m\u001b[0mbi\u001b[0m \u001b[0;34m+\u001b[0m \u001b[0;36m1\u001b[0m\u001b[0;34m)\u001b[0m \u001b[0;34m*\u001b[0m \u001b[0mr\u001b[0m\u001b[0;34m)\u001b[0m\u001b[0;34m]\u001b[0m\u001b[0;34m[\u001b[0m\u001b[0;34m:\u001b[0m\u001b[0;34m,\u001b[0m \u001b[0mj\u001b[0m\u001b[0;34m]\u001b[0m\u001b[0;34m)\u001b[0m\u001b[0;34m)\u001b[0m\u001b[0;34m\u001b[0m\u001b[0m\n\u001b[0m\u001b[1;32m     34\u001b[0m                 \u001b[0mbi\u001b[0m \u001b[0;34m+=\u001b[0m \u001b[0;36m1\u001b[0m\u001b[0;34m\u001b[0m\u001b[0m\n\u001b[1;32m     35\u001b[0m             \u001b[0;32mif\u001b[0m \u001b[0mh\u001b[0m\u001b[0;34m:\u001b[0m\u001b[0;34m\u001b[0m\u001b[0m\n",
        "\u001b[0;31mKeyboardInterrupt\u001b[0m: "
       ]
      },
      {
       "output_type": "stream",
       "stream": "stdout",
       "text": [
        "=============\n",
        "5 20\n",
        "2014-03-10 19:25:38.324430\n",
        "0\n"
       ]
      }
     ],
     "prompt_number": 125
    },
    {
     "cell_type": "code",
     "collapsed": false,
     "input": [
      "# Output from cell above\n",
      "b=2; r=50\n",
      "s=0.2; predicted=0.0; measured=0.873661804295\n",
      "s=0.3; predicted=0.0; measured=0.0\n",
      "s=0.4; predicted=0.0; measured=0.0\n",
      "s=0.5; predicted=1.7763568394e-15; measured=0.0\n",
      "s=0.6; predicted=1.6165735417e-11; measured=0.0\n",
      "s=0.7; predicted=3.59693005381e-08; measured=0.0158431961926\n",
      "s=0.8; predicted=2.85447501506e-05; measured=0.0989045383412\n",
      "\n",
      "b=5; r=20\n",
      "s=0.2; predicted=5.21804821574e-14; measured=1.51631259484\n",
      "s=0.3; predicted=1.7433943178e-10; measured=0.0312618655866\n",
      "s=0.4; predicted=5.49755800883e-08; measured=0.0548149993771\n",
      "s=0.5; predicted=4.76836248708e-06; measured=0.118682282207\n",
      "s=0.6; predicted=0.000182794554998; measured=0.238817238125\n",
      "s=0.7; predicted=0.00398325158731; measured=0.469274440077\n",
      "s=0.8; predicted=0.0563320840513; measured=0.78063740989\n",
      "\n",
      "b=10; r=10\n",
      "s=0.2; predicted=1.0239995285e-06; measured=3.87054833239\n",
      "s=0.3; predicted=5.90474309714e-05; measured=0.576847942529\n",
      "s=0.4; predicted=0.00104808135809; measured=0.681120999811\n",
      "s=0.5; predicted=0.0097228212237; measured=0.824917742344\n",
      "s=0.6; predicted=0.0588471548816; measured=0.948907434542\n",
      "s=0.7; predicted=0.249144174231; measured=0.988927119174\n",
      "s=0.8; predicted=0.678859973593; measured=0.999004046063\n",
      "\n",
      "b=20; r=5\n",
      "s=0.2; predicted=0.00638058130477; measured=18.069556962\n",
      "s=0.3; predicted=0.047494259125; measured=1.0\n",
      "s=0.4; predicted=0.186049552149; measured=1.0\n",
      "s=0.5; predicted=0.470050715317; measured=1.0\n",
      "s=0.6; predicted=0.801902453838; measured=1.0\n",
      "s=0.7; predicted=0.974780544188; measured=1.0\n",
      "s=0.8; predicted=0.999643942109; measured=1.0\n",
      "\n",
      "b=50; r=2\n",
      "s=0.2; predicted=0.870114206478; measured=25.5565727996\n",
      "s=0.3; predicted=0.991044916988; measured=1.0\n",
      "s=0.4; predicted=0.999836331801; measured=1.0\n",
      "s=0.5; predicted=0.999999433678; measured=1.0\n",
      "s=0.6; predicted=0.999999999796; measured=1.0\n",
      "s=0.7; predicted=1.0; measured=1.0\n",
      "s=0.8; predicted=1.0; measured=1.0"
     ],
     "language": "python",
     "metadata": {},
     "outputs": []
    },
    {
     "cell_type": "code",
     "collapsed": false,
     "input": [
      "from numpy import arange\n",
      "combinations = [(2, 50), (5, 20), (10, 10), (20, 5), (50, 2)]\n",
      "x = arange(0, 1.01, 0.01)\n",
      "for r, b in combinations:\n",
      "    y = [1-pow(1-pow(x[i], r), b) for i in range(101)]\n",
      "    p = plt.plot(x, y, '-', label=\"r=\" + str(r) + \", b=\" + str(b))\n",
      "plt.title( 'Theoretical \"S-curves\"')\n",
      "plt.xlabel( 'S' )\n",
      "plt.ylabel( 'Chance of being dected' )\n",
      "legend(bbox_to_anchor=(1.05, 1), loc=2, borderaxespad=0.)\n",
      "plt.show()"
     ],
     "language": "python",
     "metadata": {},
     "outputs": [
      {
       "output_type": "display_data",
       "png": "[encoded data removed]"
      }
     ],
     "prompt_number": 126
    },
    {
     "cell_type": "code",
     "collapsed": false,
     "input": [],
     "language": "python",
     "metadata": {},
     "outputs": []
    }
   ],
   "metadata": {}
  }
 ]
}